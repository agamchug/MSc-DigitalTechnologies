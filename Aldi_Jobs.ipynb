{
 "cells": [
  {
   "cell_type": "code",
   "execution_count": 208,
   "metadata": {},
   "outputs": [],
   "source": [
    "#libraries\n",
    "import requests \n",
    "from bs4 import BeautifulSoup\n",
    "import pandas as pd\n",
    "import seaborn as sns\n",
    "import numpy as np\n",
    "from sklearn import impute\n",
    "import statsmodels.api as sm"
   ]
  },
  {
   "cell_type": "markdown",
   "metadata": {},
   "source": [
    "## 1. Scraping for information: "
   ]
  },
  {
   "cell_type": "code",
   "execution_count": 209,
   "metadata": {},
   "outputs": [],
   "source": [
    "\n",
    "def scrape_aldi_jobs(starting_page = 'head-office'):\n",
    "    url = \"https://www.aldirecruitment.co.uk/\" + starting_page\n",
    "    page = requests.get(url)\n",
    "    soup = BeautifulSoup(page.content, \"html.parser\")\n",
    "    links = []\n",
    "    for link in soup.findAll('a'):\n",
    "        new_link = link.get('href')\n",
    "        if new_link != None and new_link.startswith('/head-office/'):\n",
    "            new_link = new_link.replace('/head-office','')\n",
    "            if new_link != '/':\n",
    "                links.append(new_link)\n",
    "    # Adding new containter lists\n",
    "    Pension = []\n",
    "    hols = []\n",
    "    department = []\n",
    "    titles = []\n",
    "    ubs = []\n",
    "    lbs = []\n",
    "    hours = []\n",
    "    for link in links:\n",
    "        category_url = url + link\n",
    "        page = requests.get(category_url)\n",
    "        soup = BeautifulSoup(page.content, \"html.parser\")\n",
    "        postings = soup.findAll(\"div\", class_=\"c-career--dropdown\")\n",
    "        for posting in postings:\n",
    "            dep_name = link.replace('-',' ').replace('/','')\n",
    "            department.append(dep_name)\n",
    "            titles.append(posting.find(\"div\", class_=\"c-career--dropdown__content\").find('h2').text)\n",
    "            details = posting.findAll(\"div\", class_=\"c-job-details__content\")\n",
    "\n",
    "            for detail in details:\n",
    "                detail_title = detail.find('span', class_=\"c-job-details__title\").text\n",
    "                detail_text = detail.find('div', class_=\"c-job-details__text\").text\n",
    "                \n",
    "                # Collecting the holiday allowance from the html text.\n",
    "                if detail_title.lower() == 'holiday allowance' or detail_title.lower() == 'holiday' or detail_title.lower() == 'holiday allownance': # There were spelling errors and I had received NaNs because of those errors on a granular level. Hence included the spelling alternatives.\n",
    "                    for i in range(len(detail_text.split())):\n",
    "                        if 'weeks’' or 'days’' in detail_text.split():\n",
    "                            holiday = int(detail_text.split()[0])\n",
    "                            if holiday>7: # The holiday allowance for some roles were in days instead of weeks so this condition is to detect those and standardise them to weeks. \n",
    "                                holiday = holiday/7\n",
    "                    hols.append(holiday)\n",
    "                  \n",
    "                elif detail_title.lower() == 'hours and benefits' or detail_title.lower() == 'benefits':\n",
    "                    work_time = None\n",
    "                    for s in detail_text.split():\n",
    "                        if '-hour' in s:\n",
    "                            work_time = s\n",
    "                            if '-hours' in s:\n",
    "                                work_time = int(work_time.replace('-hours',''))\n",
    "                            else:\n",
    "                                work_time = int(work_time.replace('-hour',''))\n",
    "\n",
    "                    for i in range(len(detail_text.split())): # This iteration is to solve the problem of missing weekly hours. The issue was due to differently constructed text to describe weekly hours. \n",
    "                        if detail_text.split()[i] == \"hours\": # So instead of \"x-hour(s)\", the loop looks for just \"hours\" and picks the string before the \"hours\" and appends.  \n",
    "                            work_time = int(detail_text.split()[i-1])   \n",
    "                    hours.append(work_time)\n",
    "\n",
    "                    # Looking for keywords to capture whether pension offered was from the start or offered later. This is being represented as a Yes/No. \n",
    "                    if 'when you start' in detail_text or 'When you start' in detail_text or 'When you join' in detail_text: # After trying and receiving some incorectly labelled observations, I included different forms of strings as keywords. \n",
    "                        Pension_from_start = 'Yes'\n",
    "                    else:\n",
    "                        Pension_from_start = 'No'  \n",
    "                    Pension.append(Pension_from_start)\n",
    "\n",
    "                elif detail_title == 'Salary':\n",
    "                    temp = detail_text.replace(',','')\n",
    "                    temp = temp.replace('-','')\n",
    "                    temp = temp.split()\n",
    "                    if temp[1].isdigit(): # The HTML text had a space between the salary figure and therefore, the split command was treating it as an extra element. So this condition identifies if there is a digit in the 2nd position of the string list.\n",
    "                        temp[0] = temp[0] + temp[1] # Here, we concatenate the two string digits. \n",
    "                        temp.remove(temp[1]) # Then, we remove the redundant one. \n",
    "                    salary_numbers = [float(s[1:]) for s in temp if s.startswith('£')]\n",
    "                    for salary in salary_numbers:\n",
    "                        if salary < 6: # Since the text parsed from the salary section had some other smalle digits, here we can identify those unusual smaller digits.\n",
    "                            salary_numbers.remove(salary) # Remove them from the final list and avoid incorrectly appending lower bound figures.\n",
    "                else:\n",
    "                    hols.append(None)\n",
    "                    \n",
    "            if len(salary_numbers) > 0:\n",
    "                        \n",
    "                if 'per' in temp and 'week' in temp:\n",
    "                    salary_numbers = [salary*52 for salary in salary_numbers]\n",
    "                elif 'per' in temp and 'hour' in temp: # Converting hourly figures into annual figures by identifying keywords from the text.\n",
    "                    salary_numbers = [salary*work_time*52 for salary in salary_numbers]\n",
    "                ubs.append(max(salary_numbers))\n",
    "                lbs.append(min(salary_numbers))\n",
    "            else:\n",
    "                ubs.append(None)\n",
    "                lbs.append(None)\n",
    "                \n",
    "    # Completing the dataframe with new variables.                \n",
    "    job_data = pd.DataFrame(\n",
    "        {'Department': department,\n",
    "         'Job title': titles,\n",
    "         'Salary lower': lbs,\n",
    "         'Salary upper': ubs,       \n",
    "         'Weekly hours': hours,\n",
    "         'Holiday weeks': hols,\n",
    "         'Pension from start': Pension\n",
    "        })\n",
    "    return job_data\n"
   ]
  },
  {
   "cell_type": "code",
   "execution_count": 210,
   "metadata": {},
   "outputs": [],
   "source": [
    "aldi_job_data = scrape_aldi_jobs()\n",
    "aldi_job_data.head()\n",
    "df = aldi_job_data #smaller name to ease the following code. "
   ]
  },
  {
   "cell_type": "markdown",
   "metadata": {},
   "source": [
    "## 2. Analysing the dataframe:\n",
    "### 2.1. Visualising feautures."
   ]
  },
  {
   "cell_type": "code",
   "execution_count": 211,
   "metadata": {},
   "outputs": [
    {
     "data": {
      "text/plain": [
       "array([[<AxesSubplot:title={'center':'Salary lower'}>,\n",
       "        <AxesSubplot:title={'center':'Salary upper'}>],\n",
       "       [<AxesSubplot:title={'center':'Weekly hours'}>,\n",
       "        <AxesSubplot:title={'center':'Holiday weeks'}>]], dtype=object)"
      ]
     },
     "execution_count": 211,
     "metadata": {},
     "output_type": "execute_result"
    },
    {
     "data": {
      "image/png": "[encoded data removed]",
      "text/plain": [
       "<Figure size 1080x720 with 4 Axes>"
      ]
     },
     "metadata": {
      "needs_background": "light"
     },
     "output_type": "display_data"
    }
   ],
   "source": [
    "df.hist(figsize=(15,10))"
   ]
  },
  {
   "cell_type": "markdown",
   "metadata": {},
   "source": [
    "### 2.2. Understanding department-wise differences in mean salaries and weekly hours."
   ]
  },
  {
   "cell_type": "code",
   "execution_count": 212,
   "metadata": {},
   "outputs": [
    {
     "data": {
      "text/plain": [
       "Department\n",
       "quality control                 26017.466667\n",
       "regional administration         34923.857143\n",
       "quality assurance               45775.000000\n",
       "national buying                 46238.500000\n",
       "customer service                47333.520000\n",
       "supply chain management         48543.125000\n",
       "merchandising category          49793.750000\n",
       "national administration         50541.571429\n",
       "it                              54781.500000\n",
       "hr                              56675.000000\n",
       "ecommerce                       57506.666667\n",
       "corporate responsibility        58247.500000\n",
       "marketing communications        58247.500000\n",
       "national property               58716.250000\n",
       "global business coordination    59163.750000\n",
       "Name: Salary upper, dtype: float64"
      ]
     },
     "execution_count": 212,
     "metadata": {},
     "output_type": "execute_result"
    }
   ],
   "source": [
    "df.groupby([\"Department\"])['Salary upper'].mean().sort_values()\n"
   ]
  },
  {
   "cell_type": "code",
   "execution_count": 213,
   "metadata": {},
   "outputs": [
    {
     "data": {
      "text/plain": [
       "Department\n",
       "quality control                 23292.200000\n",
       "regional administration         24973.285714\n",
       "national buying                 36401.500000\n",
       "quality assurance               36716.000000\n",
       "customer service                38134.440000\n",
       "supply chain management         38688.125000\n",
       "national administration         39292.000000\n",
       "national property               39778.750000\n",
       "merchandising category          39908.750000\n",
       "it                              42454.125000\n",
       "corporate responsibility        43180.000000\n",
       "marketing communications        43180.000000\n",
       "hr                              44005.000000\n",
       "ecommerce                       45885.555556\n",
       "global business coordination    46954.375000\n",
       "Name: Salary lower, dtype: float64"
      ]
     },
     "execution_count": 213,
     "metadata": {},
     "output_type": "execute_result"
    }
   ],
   "source": [
    "df.groupby([\"Department\"])['Salary lower'].mean().sort_values()\n"
   ]
  },
  {
   "cell_type": "code",
   "execution_count": 214,
   "metadata": {},
   "outputs": [
    {
     "data": {
      "text/plain": [
       "Department\n",
       "quality control                 29.333333\n",
       "regional administration         38.571429\n",
       "national administration         40.769231\n",
       "it                              41.250000\n",
       "hr                              41.666667\n",
       "national buying                 42.000000\n",
       "quality assurance               42.000000\n",
       "global business coordination    42.500000\n",
       "merchandising category          42.500000\n",
       "supply chain management         42.500000\n",
       "ecommerce                       42.857143\n",
       "customer service                44.000000\n",
       "corporate responsibility        45.000000\n",
       "marketing communications        45.000000\n",
       "national property               46.000000\n",
       "Name: Weekly hours, dtype: float64"
      ]
     },
     "execution_count": 214,
     "metadata": {},
     "output_type": "execute_result"
    }
   ],
   "source": [
    "df.groupby([\"Department\"])['Weekly hours'].mean().sort_values()\n"
   ]
  },
  {
   "cell_type": "markdown",
   "metadata": {},
   "source": [
    "## 3. Pre-processing:\n",
    "### 3.1 Checking for duplicates and NaN values across the df."
   ]
  },
  {
   "cell_type": "code",
   "execution_count": 215,
   "metadata": {},
   "outputs": [
    {
     "name": "stdout",
     "output_type": "stream",
     "text": [
      "False\n"
     ]
    },
    {
     "data": {
      "text/plain": [
       "(Department            False\n",
       " Job title             False\n",
       " Salary lower           True\n",
       " Salary upper           True\n",
       " Weekly hours           True\n",
       " Holiday weeks         False\n",
       " Pension from start    False\n",
       " dtype: bool,\n",
       " Department            0\n",
       " Job title             0\n",
       " Salary lower          4\n",
       " Salary upper          4\n",
       " Weekly hours          6\n",
       " Holiday weeks         0\n",
       " Pension from start    0\n",
       " dtype: int64)"
      ]
     },
     "execution_count": 215,
     "metadata": {},
     "output_type": "execute_result"
    }
   ],
   "source": [
    "dups = df['Job title'].duplicated()\n",
    "print(dups.any())\n",
    "df.isna().any(), df.isna().sum(axis=0)"
   ]
  },
  {
   "cell_type": "code",
   "execution_count": 216,
   "metadata": {},
   "outputs": [
    {
     "data": {
      "text/html": [
       "<div>\n",
       "<style scoped>\n",
       "    .dataframe tbody tr th:only-of-type {\n",
       "        vertical-align: middle;\n",
       "    }\n",
       "\n",
       "    .dataframe tbody tr th {\n",
       "        vertical-align: top;\n",
       "    }\n",
       "\n",
       "    .dataframe thead th {\n",
       "        text-align: right;\n",
       "    }\n",
       "</style>\n",
       "<table border=\"1\" class=\"dataframe\">\n",
       "  <thead>\n",
       "    <tr style=\"text-align: right;\">\n",
       "      <th></th>\n",
       "      <th>Department</th>\n",
       "      <th>Job title</th>\n",
       "      <th>Salary lower</th>\n",
       "      <th>Salary upper</th>\n",
       "      <th>Weekly hours</th>\n",
       "      <th>Holiday weeks</th>\n",
       "      <th>Pension from start</th>\n",
       "    </tr>\n",
       "  </thead>\n",
       "  <tbody>\n",
       "    <tr>\n",
       "      <th>21</th>\n",
       "      <td>national buying</td>\n",
       "      <td>National Buying Director</td>\n",
       "      <td>NaN</td>\n",
       "      <td>NaN</td>\n",
       "      <td>NaN</td>\n",
       "      <td>6.0</td>\n",
       "      <td>Yes</td>\n",
       "    </tr>\n",
       "    <tr>\n",
       "      <th>48</th>\n",
       "      <td>global business coordination</td>\n",
       "      <td>GBC Director</td>\n",
       "      <td>NaN</td>\n",
       "      <td>NaN</td>\n",
       "      <td>NaN</td>\n",
       "      <td>6.0</td>\n",
       "      <td>Yes</td>\n",
       "    </tr>\n",
       "    <tr>\n",
       "      <th>77</th>\n",
       "      <td>national property</td>\n",
       "      <td>Regional Property Director</td>\n",
       "      <td>NaN</td>\n",
       "      <td>NaN</td>\n",
       "      <td>50.0</td>\n",
       "      <td>6.0</td>\n",
       "      <td>Yes</td>\n",
       "    </tr>\n",
       "    <tr>\n",
       "      <th>90</th>\n",
       "      <td>quality assurance</td>\n",
       "      <td>Quality Assurance Director</td>\n",
       "      <td>NaN</td>\n",
       "      <td>NaN</td>\n",
       "      <td>NaN</td>\n",
       "      <td>6.0</td>\n",
       "      <td>Yes</td>\n",
       "    </tr>\n",
       "  </tbody>\n",
       "</table>\n",
       "</div>"
      ],
      "text/plain": [
       "                      Department                   Job title  Salary lower  \\\n",
       "21               national buying    National Buying Director           NaN   \n",
       "48  global business coordination                GBC Director           NaN   \n",
       "77             national property  Regional Property Director           NaN   \n",
       "90             quality assurance  Quality Assurance Director           NaN   \n",
       "\n",
       "    Salary upper  Weekly hours  Holiday weeks Pension from start  \n",
       "21           NaN           NaN            6.0                Yes  \n",
       "48           NaN           NaN            6.0                Yes  \n",
       "77           NaN          50.0            6.0                Yes  \n",
       "90           NaN           NaN            6.0                Yes  "
      ]
     },
     "execution_count": 216,
     "metadata": {},
     "output_type": "execute_result"
    }
   ],
   "source": [
    "#Lower Salary, Upper Salary, and Weekly Hours seem to have some observations with NaN\n",
    "df[df['Salary lower'].isna()] \n",
    "\n"
   ]
  },
  {
   "cell_type": "markdown",
   "metadata": {},
   "source": [
    "### 3.2. Treating the NaN values"
   ]
  },
  {
   "cell_type": "code",
   "execution_count": 217,
   "metadata": {},
   "outputs": [
    {
     "data": {
      "text/html": [
       "<div>\n",
       "<style scoped>\n",
       "    .dataframe tbody tr th:only-of-type {\n",
       "        vertical-align: middle;\n",
       "    }\n",
       "\n",
       "    .dataframe tbody tr th {\n",
       "        vertical-align: top;\n",
       "    }\n",
       "\n",
       "    .dataframe thead th {\n",
       "        text-align: right;\n",
       "    }\n",
       "</style>\n",
       "<table border=\"1\" class=\"dataframe\">\n",
       "  <thead>\n",
       "    <tr style=\"text-align: right;\">\n",
       "      <th></th>\n",
       "      <th>Department</th>\n",
       "      <th>Job title</th>\n",
       "      <th>Salary lower</th>\n",
       "      <th>Salary upper</th>\n",
       "      <th>Weekly hours</th>\n",
       "      <th>Holiday weeks</th>\n",
       "      <th>Pension from start</th>\n",
       "    </tr>\n",
       "  </thead>\n",
       "  <tbody>\n",
       "    <tr>\n",
       "      <th>6</th>\n",
       "      <td>national administration</td>\n",
       "      <td>National Administration Analyst</td>\n",
       "      <td>41200.0</td>\n",
       "      <td>45225.0</td>\n",
       "      <td>NaN</td>\n",
       "      <td>5.0</td>\n",
       "      <td>No</td>\n",
       "    </tr>\n",
       "    <tr>\n",
       "      <th>43</th>\n",
       "      <td>ecommerce</td>\n",
       "      <td>eCommerce Analyst</td>\n",
       "      <td>47100.0</td>\n",
       "      <td>54255.0</td>\n",
       "      <td>NaN</td>\n",
       "      <td>5.0</td>\n",
       "      <td>No</td>\n",
       "    </tr>\n",
       "    <tr>\n",
       "      <th>44</th>\n",
       "      <td>ecommerce</td>\n",
       "      <td>eCommerce Associate Analyst</td>\n",
       "      <td>41200.0</td>\n",
       "      <td>45225.0</td>\n",
       "      <td>NaN</td>\n",
       "      <td>5.0</td>\n",
       "      <td>No</td>\n",
       "    </tr>\n",
       "  </tbody>\n",
       "</table>\n",
       "</div>"
      ],
      "text/plain": [
       "                 Department                        Job title  Salary lower  \\\n",
       "6   national administration  National Administration Analyst       41200.0   \n",
       "43                ecommerce                eCommerce Analyst       47100.0   \n",
       "44                ecommerce      eCommerce Associate Analyst       41200.0   \n",
       "\n",
       "    Salary upper  Weekly hours  Holiday weeks Pension from start  \n",
       "6        45225.0           NaN            5.0                 No  \n",
       "43       54255.0           NaN            5.0                 No  \n",
       "44       45225.0           NaN            5.0                 No  "
      ]
     },
     "execution_count": 217,
     "metadata": {},
     "output_type": "execute_result"
    }
   ],
   "source": [
    "# We delete these observations because they seem to be senior job roles and without understanding their basic salaries, their competitive analysis has less value. \n",
    "df.dropna(subset=['Salary lower', 'Salary upper'], inplace=True)\n",
    "df[df['Weekly hours'].isna()]"
   ]
  },
  {
   "cell_type": "code",
   "execution_count": 218,
   "metadata": {},
   "outputs": [
    {
     "data": {
      "text/plain": [
       "Department            0\n",
       "Job title             0\n",
       "Salary lower          0\n",
       "Salary upper          0\n",
       "Weekly hours          0\n",
       "Holiday weeks         0\n",
       "Pension from start    0\n",
       "dtype: int64"
      ]
     },
     "execution_count": 218,
     "metadata": {},
     "output_type": "execute_result"
    }
   ],
   "source": [
    "# We impute the weekly hour NaN values because the information across other variables is consistent. Also, by using the nearest neighour approach, we can estimate weekly hours based on other observations with similar salaries and aviod deleting too many rows. \n",
    "imp = impute.KNNImputer(missing_values = np.NaN)\n",
    "df_tofit = df[['Salary lower', 'Salary upper', 'Weekly hours']] # the variables to take into consideration for calculating k-nearest neighbours\n",
    "imp.fit(df_tofit) # fit the imputer on those set of variables\n",
    "imp.transform(df_tofit) \n",
    "col_tofit = imp.transform(df_tofit)[:,2:] # Now perform the imputation on the specific column/feature\n",
    "df['Weekly hours'] = col_tofit # equate the imputed column back to the actual dataset column to update the values\n",
    "df.isna().sum()"
   ]
  },
  {
   "cell_type": "code",
   "execution_count": 219,
   "metadata": {},
   "outputs": [],
   "source": [
    "# Rounding off the few awkward numerical values. \n",
    "df['Salary lower'] = np.round(df['Salary lower'])\n",
    "df['Salary upper'] = np.round(df['Salary upper'])"
   ]
  },
  {
   "cell_type": "markdown",
   "metadata": {},
   "source": [
    "## 4. Adding new features for competitive intelligence:\n",
    "### 4.1. Growth potential: The percentage increase from lower bound to upper bound for showing how much monetary growth the job role may offer.\n",
    "### 4.2. H2S: The Hour to Salary ratio to understand the trade-off between hours worked and salary earnt. Lower hours and higher salary (or a ratio closer to zero) will imply a good role. "
   ]
  },
  {
   "cell_type": "code",
   "execution_count": 220,
   "metadata": {},
   "outputs": [
    {
     "data": {
      "text/html": [
       "<div>\n",
       "<style scoped>\n",
       "    .dataframe tbody tr th:only-of-type {\n",
       "        vertical-align: middle;\n",
       "    }\n",
       "\n",
       "    .dataframe tbody tr th {\n",
       "        vertical-align: top;\n",
       "    }\n",
       "\n",
       "    .dataframe thead th {\n",
       "        text-align: right;\n",
       "    }\n",
       "</style>\n",
       "<table border=\"1\" class=\"dataframe\">\n",
       "  <thead>\n",
       "    <tr style=\"text-align: right;\">\n",
       "      <th></th>\n",
       "      <th>Salary lower</th>\n",
       "      <th>Salary upper</th>\n",
       "      <th>Weekly hours</th>\n",
       "      <th>Holiday weeks</th>\n",
       "      <th>Growth potential</th>\n",
       "      <th>H2S</th>\n",
       "    </tr>\n",
       "  </thead>\n",
       "  <tbody>\n",
       "    <tr>\n",
       "      <th>count</th>\n",
       "      <td>95.000000</td>\n",
       "      <td>95.000000</td>\n",
       "      <td>95.000000</td>\n",
       "      <td>95.000000</td>\n",
       "      <td>95.000000</td>\n",
       "      <td>95.000000</td>\n",
       "    </tr>\n",
       "    <tr>\n",
       "      <th>mean</th>\n",
       "      <td>39224.084211</td>\n",
       "      <td>50342.905263</td>\n",
       "      <td>41.557895</td>\n",
       "      <td>4.926316</td>\n",
       "      <td>20.452632</td>\n",
       "      <td>0.056316</td>\n",
       "    </tr>\n",
       "    <tr>\n",
       "      <th>std</th>\n",
       "      <td>14314.636459</td>\n",
       "      <td>20820.633081</td>\n",
       "      <td>5.680717</td>\n",
       "      <td>0.262642</td>\n",
       "      <td>9.859404</td>\n",
       "      <td>0.021497</td>\n",
       "    </tr>\n",
       "    <tr>\n",
       "      <th>min</th>\n",
       "      <td>9828.000000</td>\n",
       "      <td>13291.000000</td>\n",
       "      <td>20.000000</td>\n",
       "      <td>4.000000</td>\n",
       "      <td>8.000000</td>\n",
       "      <td>0.029000</td>\n",
       "    </tr>\n",
       "    <tr>\n",
       "      <th>25%</th>\n",
       "      <td>32075.000000</td>\n",
       "      <td>37455.000000</td>\n",
       "      <td>40.000000</td>\n",
       "      <td>5.000000</td>\n",
       "      <td>14.000000</td>\n",
       "      <td>0.043000</td>\n",
       "    </tr>\n",
       "    <tr>\n",
       "      <th>50%</th>\n",
       "      <td>41200.000000</td>\n",
       "      <td>45225.000000</td>\n",
       "      <td>40.000000</td>\n",
       "      <td>5.000000</td>\n",
       "      <td>17.000000</td>\n",
       "      <td>0.053000</td>\n",
       "    </tr>\n",
       "    <tr>\n",
       "      <th>75%</th>\n",
       "      <td>47100.000000</td>\n",
       "      <td>70415.000000</td>\n",
       "      <td>40.000000</td>\n",
       "      <td>5.000000</td>\n",
       "      <td>31.000000</td>\n",
       "      <td>0.059000</td>\n",
       "    </tr>\n",
       "    <tr>\n",
       "      <th>max</th>\n",
       "      <td>82415.000000</td>\n",
       "      <td>102875.000000</td>\n",
       "      <td>50.000000</td>\n",
       "      <td>5.000000</td>\n",
       "      <td>52.000000</td>\n",
       "      <td>0.147000</td>\n",
       "    </tr>\n",
       "  </tbody>\n",
       "</table>\n",
       "</div>"
      ],
      "text/plain": [
       "       Salary lower   Salary upper  Weekly hours  Holiday weeks  \\\n",
       "count     95.000000      95.000000     95.000000      95.000000   \n",
       "mean   39224.084211   50342.905263     41.557895       4.926316   \n",
       "std    14314.636459   20820.633081      5.680717       0.262642   \n",
       "min     9828.000000   13291.000000     20.000000       4.000000   \n",
       "25%    32075.000000   37455.000000     40.000000       5.000000   \n",
       "50%    41200.000000   45225.000000     40.000000       5.000000   \n",
       "75%    47100.000000   70415.000000     40.000000       5.000000   \n",
       "max    82415.000000  102875.000000     50.000000       5.000000   \n",
       "\n",
       "       Growth potential        H2S  \n",
       "count         95.000000  95.000000  \n",
       "mean          20.452632   0.056316  \n",
       "std            9.859404   0.021497  \n",
       "min            8.000000   0.029000  \n",
       "25%           14.000000   0.043000  \n",
       "50%           17.000000   0.053000  \n",
       "75%           31.000000   0.059000  \n",
       "max           52.000000   0.147000  "
      ]
     },
     "execution_count": 220,
     "metadata": {},
     "output_type": "execute_result"
    }
   ],
   "source": [
    "df['Growth potential'] = np.round(((df['Salary upper'] - df['Salary lower']) / df['Salary upper']) * 100)\n",
    "df['H2S'] =  52\n",
    "df['H2S'] = np.round(((df['H2S'] - df['Holiday weeks']) * df['Weekly hours']) / df['Salary lower'], decimals = 3)\n",
    "df.describe()"
   ]
  },
  {
   "cell_type": "markdown",
   "metadata": {},
   "source": [
    "## 5. Hypothesis Testing: salary upper and holiday weeks can explain weekly hours. \n",
    "The null hypothesis is that Salary upper and Holiday weeks have no impact on Weekly hours and that their coefficients are zero.\n",
    "Ho: Beta1 = Beta2 = 0\n",
    "\n"
   ]
  },
  {
   "cell_type": "code",
   "execution_count": 221,
   "metadata": {},
   "outputs": [
    {
     "name": "stdout",
     "output_type": "stream",
     "text": [
      "                            OLS Regression Results                            \n",
      "==============================================================================\n",
      "Dep. Variable:           Weekly hours   R-squared:                       0.736\n",
      "Model:                            OLS   Adj. R-squared:                  0.730\n",
      "Method:                 Least Squares   F-statistic:                     128.3\n",
      "Date:                Thu, 04 Nov 2021   Prob (F-statistic):           2.44e-27\n",
      "Time:                        01:41:23   Log-Likelihood:                -236.04\n",
      "No. Observations:                  95   AIC:                             478.1\n",
      "Df Residuals:                      92   BIC:                             485.8\n",
      "Df Model:                           2                                         \n",
      "Covariance Type:            nonrobust                                         \n",
      "=================================================================================\n",
      "                    coef    std err          t      P>|t|      [0.025      0.975]\n",
      "---------------------------------------------------------------------------------\n",
      "const             1.1366      5.984      0.190      0.850     -10.749      13.022\n",
      "Salary upper      0.0002    1.6e-05     11.857      0.000       0.000       0.000\n",
      "Holiday weeks     6.2617      1.272      4.924      0.000       3.736       8.787\n",
      "==============================================================================\n",
      "Omnibus:                        8.778   Durbin-Watson:                   1.537\n",
      "Prob(Omnibus):                  0.012   Jarque-Bera (JB):               15.039\n",
      "Skew:                          -0.298   Prob(JB):                     0.000542\n",
      "Kurtosis:                       4.856   Cond. No.                     1.10e+06\n",
      "==============================================================================\n",
      "\n",
      "Notes:\n",
      "[1] Standard Errors assume that the covariance matrix of the errors is correctly specified.\n",
      "[2] The condition number is large, 1.1e+06. This might indicate that there are\n",
      "strong multicollinearity or other numerical problems.\n"
     ]
    }
   ],
   "source": [
    "# Runnning Linear Regression\n",
    "X = df[['Salary upper', 'Holiday weeks']]\n",
    "Y = df['Weekly hours']\n",
    "X = sm.add_constant(X)\n",
    "lm = sm.OLS(Y, X).fit()\n",
    "print(lm.summary())\n",
    "\n",
    "# The output shows that the constant coefficient (Beta0) is quite high and statistically significant. Beta1 is although small, it surely has a high t-value and small p-value. Whereas, Beta2 is larger and has and a good t-score along with a low p-value.\n",
    "# The adjusted R-squared also seems promising. \n",
    "# Based on this statistical evidence, we can reject the null hypothesis and accept that Salary upper and Holiday weeks explain the variation in Weekly hours"
   ]
  },
  {
   "cell_type": "code",
   "execution_count": 222,
   "metadata": {},
   "outputs": [
    {
     "name": "stdout",
     "output_type": "stream",
     "text": [
      "/Users/agamchug/Desktop\n"
     ]
    }
   ],
   "source": [
    "df.to_csv('Aldi_postings_2021-11-03.csv', index=False)"
   ]
  }
 ],
 "metadata": {
  "interpreter": {
   "hash": "ea63cd77fd3bd4cd2f0dc0223a916011791c02285ba1dc2a626d7a87302c8f27"
  },
  "kernelspec": {
   "display_name": "Python 3.9.7 64-bit ('pythonProject1': conda)",
   "name": "python3"
  },
  "language_info": {
   "codemirror_mode": {
    "name": "ipython",
    "version": 3
   },
   "file_extension": ".py",
   "mimetype": "text/x-python",
   "name": "python",
   "nbconvert_exporter": "python",
   "pygments_lexer": "ipython3",
   "version": "3.9.7"
  },
  "orig_nbformat": 4
 },
 "nbformat": 4,
 "nbformat_minor": 2
}
